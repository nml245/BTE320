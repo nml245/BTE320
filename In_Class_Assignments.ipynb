{
  "nbformat": 4,
  "nbformat_minor": 0,
  "metadata": {
    "colab": {
      "provenance": [],
      "authorship_tag": "ABX9TyMff/kXzWCpdmr2eYcahGTM",
      "include_colab_link": true
    },
    "kernelspec": {
      "name": "python3",
      "display_name": "Python 3"
    },
    "language_info": {
      "name": "python"
    }
  },
  "cells": [
    {
      "cell_type": "markdown",
      "metadata": {
        "id": "view-in-github",
        "colab_type": "text"
      },
      "source": [
        "<a href=\"https://colab.research.google.com/github/nml245/BTE320/blob/main/In_Class_Assignments.ipynb\" target=\"_parent\"><img src=\"https://colab.research.google.com/assets/colab-badge.svg\" alt=\"Open In Colab\"/></a>"
      ]
    },
    {
      "cell_type": "code",
      "execution_count": 49,
      "metadata": {
        "colab": {
          "base_uri": "https://localhost:8080/"
        },
        "id": "iK8-dJMkgde8",
        "outputId": "0f2db773-44de-448c-9937-9e71512222a3"
      },
      "outputs": [
        {
          "output_type": "stream",
          "name": "stdout",
          "text": [
            "Enter sales ($):10000\n",
            "Enter COGS %: .4\n",
            "Cost of Goods sold: $40.0\n",
            "Gross Profit: $9960.0\n"
          ]
        }
      ],
      "source": [
        "Sales = input(\"Enter sales ($):\")\n",
        "Sales = float(Sales)\n",
        "\n",
        "COGS = input(\"Enter COGS %: \")\n",
        "COGS = float(COGS)\n",
        "\n",
        "\n",
        "COGS = Sales * COGS / 100\n",
        "Profit = Sales - COGS\n",
        "\n",
        "print(f\"Cost of Goods sold: ${COGS}\\nGross Profit: ${Profit}\")\n"
      ]
    },
    {
      "cell_type": "code",
      "source": [
        "Sales = input(\"Enter sales ($):\")\n",
        "Sales = float(Sales)\n",
        "\n",
        "COGS = input(\"Enter COGS %: \")\n",
        "COGS = float(COGS)\n",
        "\n",
        "\n",
        "COGS = Sales * COGS / 100\n",
        "Profit = Sales - COGS\n",
        "\n",
        "Tax = input(\"Enter Tax %: \")\n",
        "Tax = float(Tax)\n",
        "\n",
        "Tax= ((100-Tax)/100) * Profit\n",
        "\n",
        "print(f\"Cost of Goods sold: ${COGS}\\nGross Profit: ${Profit}\\nNet Profit: ${Tax}\")"
      ],
      "metadata": {
        "colab": {
          "base_uri": "https://localhost:8080/"
        },
        "id": "n54Z4HIgmxoK",
        "outputId": "dd741a9f-3ae6-4bdb-e448-9d685e204adb"
      },
      "execution_count": 51,
      "outputs": [
        {
          "output_type": "stream",
          "name": "stdout",
          "text": [
            "Enter sales ($):4500\n",
            "Enter COGS %: 30\n",
            "Enter Tax %: 30\n",
            "Cost of Goods sold: $1350.0\n",
            "Gross Profit: $3150.0\n",
            "Net Profit: $2205.0\n"
          ]
        }
      ]
    }
  ]
}